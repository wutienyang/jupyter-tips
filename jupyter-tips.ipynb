{
 "cells": [
  {
   "cell_type": "code",
   "execution_count": 1,
   "metadata": {
    "collapsed": true
   },
   "outputs": [],
   "source": [
    "# https://www.dataquest.io/blog/jupyter-notebook-tips-tricks-shortcuts/"
   ]
  },
  {
   "cell_type": "markdown",
   "metadata": {},
   "source": [
    "# Pretty Display of Variables\n",
    "If you want to set this behaviour for all instances of Jupyter (Notebook and Console),  \n",
    "simply create a file ~/.ipython/profile_default/ipython_config.py with the lines below.\n",
    "```\n",
    "c = get_config()\n",
    "\n",
    "# Run all nodes interactively\n",
    "c.InteractiveShell.ast_node_interactivity = \"all\"\n",
    "```"
   ]
  },
  {
   "cell_type": "code",
   "execution_count": 5,
   "metadata": {},
   "outputs": [
    {
     "name": "stdout",
     "output_type": "stream",
     "text": [
      "[1, 2, 3, 4, 5]\n",
      "[6, 7, 8, 9, 10]\n"
     ]
    }
   ],
   "source": [
    "from IPython.core.interactiveshell import InteractiveShell\n",
    "InteractiveShell.ast_node_interactivity = \"all\"\n",
    "\n",
    "print ([1,2,3,4,5])\n",
    "print ([6,7,8,9,10])"
   ]
  },
  {
   "cell_type": "markdown",
   "metadata": {},
   "source": [
    "# Easy links to documentation\n",
    "```\n",
    "?int()\n",
    "```"
   ]
  },
  {
   "cell_type": "markdown",
   "metadata": {},
   "source": [
    "# Plotting in notebooks\n",
    "``` test.py\n",
    "%matplotlib inline\n",
    "```\n",
    "``` test.py\n",
    "provides interactivity but can be a little slow, since rendering is done server-side.\n",
    "%matplotlib notebook\n",
    "```"
   ]
  },
  {
   "cell_type": "markdown",
   "metadata": {},
   "source": [
    "# IPython Magic Commands\n",
    "This will list all magic commands\n",
    "``` test.py\n",
    "%lsmagic\n",
    "```"
   ]
  },
  {
   "cell_type": "markdown",
   "metadata": {},
   "source": [
    "# IPython Magic - %env: Set Environment Variables\n",
    "``` test.py\n",
    "# Running %env without any arguments\n",
    "# lists all environment variables\n",
    "\n",
    "# The line below sets the environment\n",
    "# variable OMP_NUM_THREADS\n",
    "%env OMP_NUM_THREADS=4\n",
    "```"
   ]
  },
  {
   "cell_type": "markdown",
   "metadata": {},
   "source": [
    "# IPython Magic - %run: Execute python code\n",
    "`%run` can execute python code from .py files - this is well-documented behavior.  \n",
    "Lesser known is the fact that it can also execute other jupyter notebooks, which can quite useful.  \n",
    "Note that using `%run` is not the same as importing a python module.  \n",
    "```\n",
    "# this will execute and show the output from\n",
    "# all code cells of the specified notebook\n",
    "%run ./two-histograms.ipynb\n",
    "```"
   ]
  },
  {
   "cell_type": "markdown",
   "metadata": {},
   "source": [
    "# IPython Magic - %load: Insert the code from an external script\n",
    "This will replace the contents of the cell with an external script. \n",
    "You can either use a file on your computer as a source, or alternatively a URL.\n",
    "\n",
    "``` test.py\n",
    "# Before Running\n",
    "%load ./hello_world.py\n",
    "```\n",
    "``` test.py\n",
    "# After Running\n",
    "# %load ./hello_world.py\n",
    "if __name__ == \"__main__\":\n",
    "\tprint(\"Hello World!\")\n",
    "```"
   ]
  },
  {
   "cell_type": "markdown",
   "metadata": {},
   "source": [
    "# IPython Magic - %store: Pass variables between notebooks.\n",
    "The `%store` command lets you pass variables between two different notebooks.\n",
    "``` test.py\n",
    "data = 'this is the string I want to pass to different notebook'\n",
    "%store data\n",
    "del data # This has deleted the variable\n",
    "```\n",
    "Now, in a new notebook…\n",
    "``` test.py\n",
    "%store -r data\n",
    "print(data)\n",
    "```"
   ]
  },
  {
   "cell_type": "markdown",
   "metadata": {},
   "source": [
    "# IPython Magic - %who: List all variables of global scope.\n",
    "``` test.py\n",
    "one = \"for the money\"\n",
    "two = \"for the show\"\n",
    "three = \"to get ready now go cat go\" \n",
    "%who str\n",
    "```"
   ]
  },
  {
   "cell_type": "markdown",
   "metadata": {},
   "source": [
    "# IPython Magic - Timing\n",
    "`%%time` will give you information about a single run of the code in your cell."
   ]
  },
  {
   "cell_type": "code",
   "execution_count": 16,
   "metadata": {},
   "outputs": [
    {
     "name": "stdout",
     "output_type": "stream",
     "text": [
      "CPU times: user 32.8 ms, sys: 32 ms, total: 64.8 ms\n",
      "Wall time: 11.3 s\n"
     ]
    }
   ],
   "source": [
    "%%time\n",
    "import time\n",
    "for _ in range(1000):\n",
    "    time.sleep(0.01)# sleep for 0.01 seconds"
   ]
  },
  {
   "cell_type": "code",
   "execution_count": 19,
   "metadata": {},
   "outputs": [
    {
     "name": "stdout",
     "output_type": "stream",
     "text": [
      "CPU times: user 107 µs, sys: 91 µs, total: 198 µs\n",
      "Wall time: 145 µs\n"
     ]
    },
    {
     "data": {
      "text/plain": [
       "array([-0.79398836, -0.04145734,  0.28644917, -1.10905096,  0.21252843,\n",
       "        0.86743907,  2.44287806, -1.65402933,  0.91611268,  0.29013293])"
      ]
     },
     "execution_count": 19,
     "metadata": {},
     "output_type": "execute_result"
    }
   ],
   "source": [
    "import numpy\n",
    "%time numpy.random.normal(size=10)"
   ]
  },
  {
   "cell_type": "markdown",
   "metadata": {},
   "source": [
    "# IPython Magic - %%writefile and %pycat: Export the contents of a cell/Show the contents of an external script"
   ]
  },
  {
   "cell_type": "code",
   "execution_count": 20,
   "metadata": {},
   "outputs": [
    {
     "name": "stdout",
     "output_type": "stream",
     "text": [
      "Writing pythoncode.py\n"
     ]
    }
   ],
   "source": [
    "%%writefile pythoncode.py\n",
    "\n",
    "import numpy\n",
    "def append_if_not_exists(arr, x):\n",
    "    if x not in arr:\n",
    "        arr.append(x)\n",
    "        \n",
    "def some_useless_slow_function():\n",
    "    arr = list()\n",
    "    for i in range(10000):\n",
    "        x = numpy.random.randint(0, 10000)\n",
    "        append_if_not_exists(arr, x)\n"
   ]
  },
  {
   "cell_type": "code",
   "execution_count": 22,
   "metadata": {
    "collapsed": true
   },
   "outputs": [],
   "source": [
    "%pycat pythoncode.py"
   ]
  },
  {
   "cell_type": "markdown",
   "metadata": {},
   "source": [
    "```\n",
    "import numpy\n",
    "def append_if_not_exists(arr, x):\n",
    "    if x not in arr:\n",
    "        arr.append(x)\n",
    "        \n",
    "def some_useless_slow_function():\n",
    "    arr = list()\n",
    "    for i in range(10000):\n",
    "        x = numpy.random.randint(0, 10000)\n",
    "        append_if_not_exists(arr, x)\n",
    "```"
   ]
  },
  {
   "cell_type": "markdown",
   "metadata": {},
   "source": [
    "# IPython Magic - %prun: Show how much time your program spent in each function.\n",
    "``` test.py\n",
    "%prun some_useless_slow_function()\n",
    "```"
   ]
  },
  {
   "cell_type": "markdown",
   "metadata": {},
   "source": [
    "```\n",
    "26324 function calls in 0.556 seconds\n",
    "\n",
    "Ordered by: internal time\n",
    "\n",
    "ncalls  tottime  percall  cumtime  percall filename:lineno(function)\n",
    "10000    0.527    0.000    0.528    0.000 <ipython-input-46-b52343f1a2d5>:2(append_if_not_exists)\n",
    "10000    0.022    0.000    0.022    0.000 {method 'randint' of 'mtrand.RandomState' objects}\n",
    "    1    0.006    0.006    0.556    0.556 <ipython-input-46-b52343f1a2d5>:6(some_useless_slow_function)\n",
    " 6320    0.001    0.000    0.001    0.000 {method 'append' of 'list' objects}\n",
    "    1    0.000    0.000    0.556    0.556 <string>:1(<module>)\n",
    "    1    0.000    0.000    0.556    0.556 {built-in method exec}\n",
    "    1    0.000    0.000    0.000    0.000 {method 'disable' of '_lsprof.Profiler' objects}\n",
    "```"
   ]
  },
  {
   "cell_type": "markdown",
   "metadata": {},
   "source": [
    "# IPython Magic - Debugging with %pdb\n",
    "``` test.py\n",
    "%pdb\n",
    "\n",
    "def pick_and_take():\n",
    "    picked = numpy.random.randint(0, 1000)\n",
    "    raise NotImplementedError()\n",
    "    \n",
    "pick_and_take()\n",
    "```"
   ]
  },
  {
   "cell_type": "markdown",
   "metadata": {},
   "source": [
    "# Suppress the output of a final function."
   ]
  },
  {
   "cell_type": "code",
   "execution_count": 25,
   "metadata": {},
   "outputs": [
    {
     "name": "stderr",
     "output_type": "stream",
     "text": [
      "/Users/wy/.local/lib/python2.7/site-packages/matplotlib/font_manager.py:273: UserWarning: Matplotlib is building the font cache using fc-list. This may take a moment.\n",
      "  warnings.warn('Matplotlib is building the font cache using fc-list. This may take a moment.')\n"
     ]
    }
   ],
   "source": [
    "%matplotlib inline\n",
    "from matplotlib import pyplot as plt\n",
    "import numpy\n",
    "x = numpy.linspace(0, 1, 1000)**1.5"
   ]
  },
  {
   "cell_type": "code",
   "execution_count": 27,
   "metadata": {},
   "outputs": [
    {
     "data": {
      "text/plain": [
       "(array([ 216.,  126.,  106.,   95.,   87.,   81.,   77.,   73.,   71.,   68.]),\n",
       " array([ 0. ,  0.1,  0.2,  0.3,  0.4,  0.5,  0.6,  0.7,  0.8,  0.9,  1. ]),\n",
       " <a list of 10 Patch objects>)"
      ]
     },
     "execution_count": 27,
     "metadata": {},
     "output_type": "execute_result"
    },
    {
     "data": {
      "image/png": "[encoded data removed]",
      "text/plain": [
       "<matplotlib.figure.Figure at 0x10b4cfc10>"
      ]
     },
     "metadata": {},
     "output_type": "display_data"
    }
   ],
   "source": [
    "# Here you get the output of the function\n",
    "plt.hist(x)"
   ]
  },
  {
   "cell_type": "code",
   "execution_count": 28,
   "metadata": {},
   "outputs": [
    {
     "data": {
      "image/png": "[encoded data removed]",
      "text/plain": [
       "<matplotlib.figure.Figure at 0x10b52b7d0>"
      ]
     },
     "metadata": {},
     "output_type": "display_data"
    }
   ],
   "source": [
    "# By adding a semicolon at the end, the output is suppressed.\n",
    "plt.hist(x);"
   ]
  },
  {
   "cell_type": "markdown",
   "metadata": {},
   "source": [
    "# Executing Shell Commands\n",
    "` !ls *.csv `"
   ]
  },
  {
   "cell_type": "markdown",
   "metadata": {},
   "source": [
    "```\n",
    "nba_2016.csv             titanic.csv\n",
    "pixar_movies.csv         whitehouse_employees.csv\n",
    "```"
   ]
  },
  {
   "cell_type": "markdown",
   "metadata": {},
   "source": [
    "```\n",
    "!pip install numpy\n",
    "!pip list | grep pandas\n",
    "```"
   ]
  },
  {
   "cell_type": "markdown",
   "metadata": {},
   "source": [
    "```\n",
    "Requirement already satisfied (use --upgrade to upgrade): numpy in /Library/Frameworks/Python.framework/Versions/3.4/lib/python3.4/site-packages\n",
    "pandas (0.18.1)\n",
    "```"
   ]
  },
  {
   "cell_type": "markdown",
   "metadata": {},
   "source": [
    "# Using LaTeX for forumlas"
   ]
  },
  {
   "cell_type": "markdown",
   "metadata": {},
   "source": [
    "`$$ P(A \\mid B) = \\frac{P(B \\mid A) \\, P(A)}{P(B)} $$`"
   ]
  },
  {
   "cell_type": "markdown",
   "metadata": {},
   "source": [
    "$$ P(A \\mid B) = \\frac{P(B \\mid A) \\, P(A)}{P(B)} $$"
   ]
  },
  {
   "cell_type": "markdown",
   "metadata": {},
   "source": [
    "# Run code from a different kernel in a notebook\n",
    "1. %%bash\n",
    "2. %%HTML\n",
    "3. %%python2\n",
    "4. %%python3\n",
    "5. %%ruby\n",
    "6. %%perl"
   ]
  },
  {
   "cell_type": "code",
   "execution_count": 31,
   "metadata": {},
   "outputs": [
    {
     "name": "stdout",
     "output_type": "stream",
     "text": [
      "i is 1\n",
      "i is 2\n",
      "i is 3\n",
      "i is 4\n",
      "i is 5\n"
     ]
    }
   ],
   "source": [
    "%%bash\n",
    "for i in {1..5}\n",
    "do\n",
    "   echo \"i is $i\"\n",
    "done"
   ]
  },
  {
   "cell_type": "markdown",
   "metadata": {},
   "source": [
    "# Install other kernels for Jupyter\n",
    "If you used Anaconda to set up your environment, getting R working is extremely easy.  \n",
    "Just run the below in your terminal:\n",
    "```\n",
    "conda install -c r r-essentials\n",
    "```"
   ]
  },
  {
   "cell_type": "markdown",
   "metadata": {},
   "source": [
    "# Jupyter-contrib extensions\n",
    "[!Jupyter-contrib extensions](https://github.com/ipython-contrib/jupyter_contrib_nbextensions) is a family of extensions which give Jupyter a lot more functionality"
   ]
  },
  {
   "cell_type": "markdown",
   "metadata": {},
   "source": [
    "# Create a presentation from a Jupyter notebook.\n",
    "Damian Avila’s [!RISE](https://github.com/damianavila/RISE) allows you to create a powerpoint style presentation from an existing notebook.\n",
    "\n",
    "You can install RISE using conda:"
   ]
  },
  {
   "cell_type": "markdown",
   "metadata": {},
   "source": [
    "# The Jupyter output system"
   ]
  },
  {
   "cell_type": "markdown",
   "metadata": {},
   "source": [
    "```\n",
    "import os\n",
    "from IPython.display import display, Image\n",
    "names = [f for f in os.listdir('../images/ml_demonstrations/') if f.endswith('.png')]\n",
    "for name in names[:5]:\n",
    "    display(Image('../images/ml_demonstrations/' + name, width=100))\n",
    "```"
   ]
  },
  {
   "cell_type": "markdown",
   "metadata": {},
   "source": [
    "```\n",
    "names = !ls ../images/ml_demonstrations/*.png\n",
    "names[:5]\n",
    "['../images/ml_demonstrations/colah_embeddings.png',\n",
    " '../images/ml_demonstrations/convnetjs.png',\n",
    " '../images/ml_demonstrations/decision_tree.png',\n",
    " '../images/ml_demonstrations/decision_tree_in_course.png',\n",
    " '../images/ml_demonstrations/dream_mnist.png']\n",
    "```"
   ]
  },
  {
   "cell_type": "markdown",
   "metadata": {},
   "source": [
    "# ‘Big data’ analysis\n",
    "1. [!ipyparallel (formerly ipython cluster)](https://github.com/ipython/ipyparallel) is a good option for simple map-reduce operations in python. We use it in rep to train many machine learning models in parallel\n",
    "2. [!pyspark](https://www.cloudera.com/documentation/enterprise/5-5-x/topics/spark_ipython.html)\n",
    "3. [!spark-sql magic %%sql](https://github.com/jupyter-incubator/sparkmagic)"
   ]
  },
  {
   "cell_type": "markdown",
   "metadata": {},
   "source": [
    "# Sharing notebooks\n",
    "# What are your favorites?\n",
    "1. IPython built-in magics\n",
    "2. Nice interactive presentation about jupyter by Ben Zaitlen\n",
    "3. Advanced notebooks part 1: magics and part 2: widgets\n",
    "4. Profiling in python with jupyter\n",
    "5. 4 ways to extend notebooks\n",
    "6. IPython notebook tricks\n",
    "7. Jupyter vs Zeppelin for big data\n",
    "8. Making publication ready Python notebooks.\n",
    "\n",
    "[!jupyter-notebook-tips-tricks-shortcuts](https://www.dataquest.io/blog/jupyter-notebook-tips-tricks-shortcuts/)"
   ]
  }
 ],
 "metadata": {
  "kernelspec": {
   "display_name": "Python 2",
   "language": "python",
   "name": "python2"
  },
  "language_info": {
   "codemirror_mode": {
    "name": "ipython",
    "version": 2
   },
   "file_extension": ".py",
   "mimetype": "text/x-python",
   "name": "python",
   "nbconvert_exporter": "python",
   "pygments_lexer": "ipython2",
   "version": "2.7.13"
  }
 },
 "nbformat": 4,
 "nbformat_minor": 2
}
